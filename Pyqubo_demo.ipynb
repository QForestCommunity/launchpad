{
 "cells": [
  {
   "cell_type": "markdown",
   "metadata": {},
   "source": [
    "Here we will demonstrate the simple light switch game using the python package pyqubo.\n",
    "The light switch game is a simple game which consists of a set of light switches which have values corresponding to them (weights). If the switch is turned on, the corresponding value is added to the total sum. Hence the goal is to find the minimum value of this sum, by finding an optimal combination of the switches (on or off).\n",
    "\n",
    "If pyqubo is not installed, run the following: pip install pyqubo\n",
    "Now that it is installed we import the 2 required functions from pyqubo."
   ]
  },
  {
   "cell_type": "code",
   "execution_count": 1,
   "metadata": {},
   "outputs": [],
   "source": [
    "from pyqubo import Spin, solve_ising"
   ]
  },
  {
   "cell_type": "markdown",
   "metadata": {},
   "source": [
    "Pyqubo accepts a quadratic model of the problem to be solved. \n",
    "Hence we first convert the whole problem to a quadratic form.\n",
    "Let us assume we are dealing with 3 switches (x1, x2, x3) having weights 2,1,-3 respectively.\n",
    "The following code sets the switch variables as spin variables (which collapse to either -1 or 1)\n",
    "If you want to work with binary variables(0 or 1), use Binary() instead of Spin() to define the quadratic."
   ]
  },
  {
   "cell_type": "code",
   "execution_count": 2,
   "metadata": {},
   "outputs": [],
   "source": [
    "x1, x2, x3  = Spin(\"x1\"), Spin(\"x2\"), Spin(\"x3\")\n",
    "Quad_form = 2*(x1) + x2 - 3*(x3)"
   ]
  },
  {
   "cell_type": "markdown",
   "metadata": {},
   "source": [
    "Now we compile the model, and get the Ising coefficients. The description for the functions is available in detail in the quantum optimisation resources (pyqubo documentation)."
   ]
  },
  {
   "cell_type": "code",
   "execution_count": 3,
   "metadata": {},
   "outputs": [],
   "source": [
    "model = Quad_form.compile()\n",
    "deg1, deg2, off = model.to_ising()"
   ]
  },
  {
   "cell_type": "markdown",
   "metadata": {},
   "source": [
    "Now we solve the ising model, and if we observe we should get the output as {-1, -1, 1}, because we would want light switches 1 and 2 to be turned off and light switch 3 to be turned on for us to have a minimum value."
   ]
  },
  {
   "cell_type": "code",
   "execution_count": 4,
   "metadata": {},
   "outputs": [
    {
     "name": "stdout",
     "output_type": "stream",
     "text": [
      "{'x1': -1, 'x2': -1, 'x3': 1}\n"
     ]
    }
   ],
   "source": [
    "res = solve_ising(deg1, deg2)\n",
    "print(res) "
   ]
  },
  {
   "cell_type": "markdown",
   "metadata": {},
   "source": [
    "As we see, we get the expected output. \n",
    "Experiment with the weights and the number of switches.\n",
    "In case sometimes on running the same code multiple times, different outputs are observed, solve the ising model multiple times and extract the most frequently occuring solution. You can use the following code"
   ]
  },
  {
   "cell_type": "code",
   "execution_count": 6,
   "metadata": {},
   "outputs": [
    {
     "name": "stdout",
     "output_type": "stream",
     "text": [
      "{'x1': -1, 'x2': -1, 'x3': 1}\n"
     ]
    }
   ],
   "source": [
    "shots = 10 #variable used to specify number of times you want to solve the model\n",
    "ans = []\n",
    "for i in range(shots):\n",
    "    res = solve_ising(deg1, deg2)\n",
    "    ans.append(res)\n",
    "    \n",
    "result = ans[0]\n",
    "maxim = 0\n",
    "for i in ans:\n",
    "    freq = ans.count(i)\n",
    "    if freq>maxim:\n",
    "        maxim = freq\n",
    "        result = i\n",
    "\n",
    "print(str(result))"
   ]
  }
 ],
 "metadata": {
  "kernelspec": {
   "display_name": "Python 3",
   "language": "python",
   "name": "python3"
  },
  "language_info": {
   "codemirror_mode": {
    "name": "ipython",
    "version": 3
   },
   "file_extension": ".py",
   "mimetype": "text/x-python",
   "name": "python",
   "nbconvert_exporter": "python",
   "pygments_lexer": "ipython3",
   "version": "3.6.6"
  }
 },
 "nbformat": 4,
 "nbformat_minor": 2
}
